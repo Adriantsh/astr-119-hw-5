{
 "cells": [
  {
   "cell_type": "markdown",
   "metadata": {},
   "source": [
    "# Trapezoid Method, Simpson's Rule and Romberg Integration"
   ]
  },
  {
   "cell_type": "code",
   "execution_count": null,
   "metadata": {},
   "outputs": [],
   "source": [
    "import numpy as np\n",
    "import matplotlib.pyplot as plt"
   ]
  },
  {
   "cell_type": "markdown",
   "metadata": {},
   "source": [
    "## Define a function for taking an integral"
   ]
  },
  {
   "cell_type": "code",
   "execution_count": null,
   "metadata": {},
   "outputs": [],
   "source": [
    "def func(x):\n",
    "    return np.exp(-2.0*x)*np.cos(10.0*x)"
   ]
  },
  {
   "cell_type": "markdown",
   "metadata": {},
   "source": [
    "## Define it's integral so we know the right answer"
   ]
  },
  {
   "cell_type": "code",
   "execution_count": null,
   "metadata": {},
   "outputs": [],
   "source": [
    "def func_integral(x):\n",
    "    return 1/52*np.exp(-2*x)*(5*np.sin(10*x)-np.cos(10*x))"
   ]
  },
  {
   "cell_type": "markdown",
   "metadata": {},
   "source": [
    "## Define the core of the trapezoid method"
   ]
  },
  {
   "cell_type": "code",
   "execution_count": null,
   "metadata": {},
   "outputs": [],
   "source": [
    "def trapezoid_core(f,x,h):\n",
    "    return 0.5*h*(f(x+h)+f(x))"
   ]
  },
  {
   "cell_type": "markdown",
   "metadata": {},
   "source": [
    "## Define a wrapper function for trapezoid method"
   ]
  },
  {
   "cell_type": "code",
   "execution_count": null,
   "metadata": {},
   "outputs": [],
   "source": [
    "def trapezoid_method(f,a,b,N):\n",
    "    # f == funtion to integrate\n",
    "    # a == lower limit of integration\n",
    "    # b == upper limit of integration\n",
    "    # N == number of function evaluations to use\n",
    "    \n",
    "    #define x value to perform trapezoid rule\n",
    "    x = np.linspace(a,b,N)\n",
    "    h = x[1] - x[0]\n",
    "    \n",
    "    #define in value of the integral\n",
    "    Fint = 0.0\n",
    "    \n",
    "    #perform in integral using the trapezoid method\n",
    "    for i in range(0,len(x)-1,1):\n",
    "        Fint += trapezoid_core(f,x[i],h)\n",
    "    #return the answer\n",
    "    return Fint"
   ]
  },
  {
   "cell_type": "markdown",
   "metadata": {},
   "source": [
    "## Define the core of the Simpson's Method"
   ]
  },
  {
   "cell_type": "code",
   "execution_count": null,
   "metadata": {},
   "outputs": [],
   "source": [
    "def simpson_core(f,x,h):\n",
    "    return h*( f(x) + 4*f(x+h) + f(x+2*h) )/3"
   ]
  },
  {
   "cell_type": "markdown",
   "metadata": {},
   "source": [
    "## Define a wrapper function to perform Simpson's Method"
   ]
  },
  {
   "cell_type": "code",
   "execution_count": null,
   "metadata": {},
   "outputs": [],
   "source": [
    "def simpsons_method(f,a,b,N):\n",
    "      # f == funtion to integrate\n",
    "    # a == lower limit of integration\n",
    "    # b == upper limit of integration\n",
    "    # N == number of intervals\n",
    "    #note the number of chunks will be N-1\n",
    "    #so if N is odd, the we don't need to adjust the \n",
    "    #last segment\n",
    "    \n",
    "    #define x values to perform simpsons rule\n",
    "    x = np.linspace(a,b,N)\n",
    "    h = x[1]-x[0]\n",
    "    \n",
    "    #define the value of the integral\n",
    "    Fint = 0.0\n",
    "    \n",
    "    #perform the integral using simpson's method\n",
    "    for i in range(0,len(x)-2,2):\n",
    "        Fint += simpson_core(f,x[i],h)\n",
    "        \n",
    "    #apply simpson's rule over the last interval\n",
    "    #if N is even\n",
    "    if ((N%2) == 0):\n",
    "        Fint += simpson_core(f,x[-2],0.5*h)\n",
    "        \n",
    "    return Fint\n",
    "        "
   ]
  },
  {
   "cell_type": "markdown",
   "metadata": {},
   "source": [
    "## Define the Romberg Integration core"
   ]
  },
  {
   "cell_type": "code",
   "execution_count": null,
   "metadata": {},
   "outputs": [],
   "source": [
    "def romberg_core(f,a,b,i):\n",
    "    \n",
    "    #we need the difference b-a\n",
    "    h = b - a\n",
    "    \n",
    "    #and the increment between new function evaluations\n",
    "    dh = h/2.**(i)\n",
    "    \n",
    "    #need the cofactor\n",
    "    K = h/2.**(i+1)\n",
    "    \n",
    "    #and to compute the function evaluations\n",
    "    M = 0.0\n",
    "    for j in range(2**i):\n",
    "        M += f(a + 0.5*dh + j*dh)\n",
    "        \n",
    "    #return the answer\n",
    "    return K*M"
   ]
  },
  {
   "cell_type": "markdown",
   "metadata": {},
   "source": [
    "## Define a wrapper function to perform Romberg integration"
   ]
  },
  {
   "cell_type": "code",
   "execution_count": null,
   "metadata": {},
   "outputs": [],
   "source": [
    "def romberg_integration(f,a,b,tol):\n",
    "    \n",
    "    #define an iteration variable\n",
    "    i = 0\n",
    "    \n",
    "    #define a maximum number of iterations\n",
    "    imax = 1000\n",
    "    \n",
    "    #define an error estimate, set to a large value\n",
    "    delta = 100.0*np.fabs(tol)\n",
    "    \n",
    "    #set an array to integral answers\n",
    "    I = np.zeros(imax,dtype=float)\n",
    "    \n",
    "    #get the zeroth romberg iteration\n",
    "    I[0] = 0.5*(b-a)*(f(a) +f(b))\n",
    "    \n",
    "    #iterate by 1\n",
    "    i += 1\n",
    "    \n",
    "    while(delta>tol):\n",
    "        \n",
    "        #find this romberg iteration\n",
    "        I[i] = 0.5*I[i-1] + romberg_core(f,a,b,i)\n",
    "        \n",
    "        #compute the new fractional error estimate\n",
    "        delta = np.fabs( (I[i]-I[i-1])/I[i] )\n",
    "        \n",
    "        #print step\n",
    "        print(i,I[i],I[i-1],delta)\n",
    "        \n",
    "        if(delta>tol):\n",
    "            \n",
    "            #iterate\n",
    "            i+=1\n",
    "            \n",
    "            #if we've reached the maximum iterations\n",
    "            if(i>imax):\n",
    "                print(\"Max iterations reached.\")\n",
    "                raise StopIteration('Stopping iterations after ',i)\n",
    "                \n",
    "    #return the answer\n",
    "    return (I[i],i)"
   ]
  },
  {
   "cell_type": "markdown",
   "metadata": {},
   "source": [
    "## Check the integrals"
   ]
  },
  {
   "cell_type": "code",
   "execution_count": null,
   "metadata": {
    "scrolled": true
   },
   "outputs": [],
   "source": [
    "Answer = func_integral(np.pi)-func_integral(0)\n",
    "print(Answer)\n",
    "print(\"Trapezoid\")\n",
    "print(trapezoid_method(func,0,np.pi,10))\n",
    "print(\"Simpson's Method\")\n",
    "print(simpsons_method(func,0,np.pi,10))\n",
    "print(\"Romberg\")\n",
    "tolerance = 1.0e-6\n",
    "\n",
    "#This romberg integration takes 5 minutes to complete \n",
    "#each step taking roughly twice as long as the last\n",
    "\n",
    "#I think the issue is in this step of the romberg_core:\n",
    "    #for j in range(2**i):\n",
    "        #M += f(a + 0.5*dh + j*dh)\n",
    "        \n",
    "#for i == 26, the program needs to call the original function\n",
    "#2^26 = 67,108,864 times\n",
    "\n",
    "#in total, the program needs to call the original function about \n",
    "#2^27 ~ 130 million times \n",
    "\n",
    "RI = romberg_integration(func,0,np.pi,tolerance)\n",
    "print(RI[0], (RI[0]-Answer)/Answer, tolerance)\n",
    "print(\"Romberg takes this many steps to complete:\")\n",
    "print(RI[1])"
   ]
  },
  {
   "cell_type": "markdown",
   "metadata": {},
   "source": [
    "## Discrete bisection search"
   ]
  },
  {
   "cell_type": "code",
   "execution_count": null,
   "metadata": {},
   "outputs": [],
   "source": [
    "def check_initial_values(f, x_min, x_max):\n",
    "    \n",
    "    #check out intital guesses\n",
    "    y_min = f(x_min)\n",
    "    y_max = f(x_max)\n",
    "    \n",
    "    #check that xim and xmax contain a zero crossing\n",
    "    if(y_min*y_max >= 0.0):\n",
    "        print(\"No zero crossing found in the range = \",x_min,x)\n",
    "        s = \"f(%f) = %f(%f) = %f\" % (x_mins,y_min,x_max,y_max)\n",
    "        print(s)\n",
    "        return 0 \n",
    "    \n",
    "    #if we reach this point, the bracket is valid\n",
    "    #and we will return 3\n",
    "    return 3"
   ]
  },
  {
   "cell_type": "code",
   "execution_count": null,
   "metadata": {},
   "outputs": [],
   "source": [
    "def bisection_root_finding(f, x_min_start, x_max_start):\n",
    "\n",
    "    #this function uses bisection to find a root\n",
    "\n",
    "    x_min = x_min_start  #minimum x in bracket\n",
    "    x_max = x_max_start  #maximum x in bracket\n",
    "    x_mid = 0.0          #mid point\n",
    "    \n",
    "    y_min = f(x_min)    #function value at x_min\n",
    "    y_max = f(x_max)     #function value at x_max\n",
    "    y_mid = 0.0          #function value at mid point\n",
    "\n",
    "    imax = 10000    #set a max number of iterations\n",
    "    i = 0           #iteration counter\n",
    "\n",
    "    #check the initial values\n",
    "    flag = check_initial_values(f, x_min, x_max)\n",
    "\n",
    "    if(flag == 0):\n",
    "        print(\"Error in bisection_root_finging().\")\n",
    "        raise ValueError('Inital vlues invalid',x_min,x_max)\n",
    "\n",
    "    #if we reach here, then we need to conduct the search\n",
    "\n",
    "    #set a new flag\n",
    "    flag = 1\n",
    "\n",
    "    #enter a while loop\n",
    "    while(flag):\n",
    "        x_mid = (x_min+x_max)//2   #floored mid point\n",
    "        y_mid = f(x_mid)           #value of y at x_mid\n",
    "    \n",
    "        #check if the search has converged on a single value\n",
    "        if(np.fabs(x_min-x_max)<=1):\n",
    "            flag = 0 #we are done!\n",
    "        \n",
    "        else: \n",
    "            #x_mid is not a root\n",
    "            \n",
    "            #if the product of the function at the midpoint \n",
    "            #and at one of the endpoints is greater than\n",
    "            #zero, replace this end point\n",
    "            if(f(x_min)*f(x_mid)>0):\n",
    "                #replace x_max with x_mid\n",
    "                x_min = x_mid\n",
    "            else:\n",
    "                #replace x_max with x_mid\n",
    "                x_max = x_mid\n",
    "        \n",
    "        #print out the iteration\n",
    "        print(x_min,f(x_min),x_max,f(x_max))\n",
    "        \n",
    "        #count the iteration\n",
    "        i += 1 \n",
    "        \n",
    "        #if we have exceeded the number of iterations\n",
    "        #then exit\n",
    "        if(i>=imax):\n",
    "            print(\"Exceeded max number of iterations = \",i)\n",
    "            s = \"Min bracket f(%f) = %f\" %(x_min,f(x_min))\n",
    "            print(s)\n",
    "            s = \"Max bracket f(%f) = %f\" %(x_max,f(x_max))\n",
    "            print(s)\n",
    "            s = \"Mid bracket f(%f) = %f\" %(x_mid,f(x_mid))\n",
    "            print(s)\n",
    "            raise StopIteration('Stopping iterations after ',i)\n",
    "            \n",
    "    #we are done\n",
    "    return x_max\n"
   ]
  },
  {
   "cell_type": "markdown",
   "metadata": {},
   "source": [
    "## Function For Zeros"
   ]
  },
  {
   "cell_type": "code",
   "execution_count": null,
   "metadata": {},
   "outputs": [],
   "source": [
    "#define a function that crosses x axis \n",
    "#when the integration approx method \n",
    "#reaches the specified tolerance\n",
    "\n",
    "def func_delta(f,a,b,N,value,tol):\n",
    "    p = f(func,a,b,N)\n",
    "    return np.fabs((p-value)/value)-tol"
   ]
  },
  {
   "cell_type": "markdown",
   "metadata": {},
   "source": [
    "## Check Trapezoid method to Tolerance"
   ]
  },
  {
   "cell_type": "code",
   "execution_count": null,
   "metadata": {},
   "outputs": [],
   "source": [
    "tolerance = 1.0e-6\n",
    "Answer = func_integral(np.pi)-func_integral(0)\n",
    "\n",
    "\n",
    "#define a function of 1 variable that crosses x axis \n",
    "#when the trapezoid method reaches the specified tolerance\n",
    "def trapezoid_delta(x):\n",
    "    return func_delta(trapezoid_method,0,np.pi,x,Answer,tolerance)\n",
    "\n",
    "TI=bisection_root_finding(trapezoid_delta, 2, 10000)\n",
    "print(\"The trapezoid method needs this many intervals to reach the specified tolerance:\")\n",
    "print(TI)\n",
    "print(\"The value of the trapezoid method using that many intervals is:\")\n",
    "print(trapezoid_method(func,0,np.pi,TI))\n",
    "print(\"The true answer is:\")\n",
    "print(Answer)\n",
    "print(\"The fractional error is:\")\n",
    "print(trapezoid_delta(TI)+tolerance)\n",
    "print(\"The fractional error using one less interval is:\")\n",
    "print(trapezoid_delta(TI-1)+tolerance)\n"
   ]
  },
  {
   "cell_type": "markdown",
   "metadata": {},
   "source": [
    "## Check Simpson's Method to tolerance"
   ]
  },
  {
   "cell_type": "code",
   "execution_count": null,
   "metadata": {},
   "outputs": [],
   "source": [
    "tolerance = 1.0e-6\n",
    "Answer = func_integral(np.pi)-func_integral(0)\n",
    "\n",
    "\n",
    "#define a function of 1 variable that crosses x axis \n",
    "#when Simpson's method reaches the specified tolerance\n",
    "def simpsons_delta(x):\n",
    "    return func_delta(simpsons_method,0,np.pi,x,Answer,tolerance)\n",
    "\n",
    "SI=bisection_root_finding(simpsons_delta, 2, 10000)\n",
    "print(\"Simpson's method needs this many intervals to reach the specified tolerance:\")\n",
    "print(SI)\n",
    "print(\"The value of Simpson's method using that many intervals is:\")\n",
    "print(simpsons_method(func,0,np.pi,SI))\n",
    "print(\"The true answer is:\")\n",
    "print(Answer)\n",
    "print(\"The fractional error is:\")\n",
    "print(simpsons_delta(SI)+tolerance)\n",
    "print(\"The fractional error using one less interval is:\")\n",
    "print(simpsons_delta(SI-1)+tolerance)"
   ]
  }
 ],
 "metadata": {
  "kernelspec": {
   "display_name": "Python 3",
   "language": "python",
   "name": "python3"
  },
  "language_info": {
   "codemirror_mode": {
    "name": "ipython",
    "version": 3
   },
   "file_extension": ".py",
   "mimetype": "text/x-python",
   "name": "python",
   "nbconvert_exporter": "python",
   "pygments_lexer": "ipython3",
   "version": "3.8.5"
  }
 },
 "nbformat": 4,
 "nbformat_minor": 4
}
