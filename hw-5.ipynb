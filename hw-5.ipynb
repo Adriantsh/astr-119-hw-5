{
 "cells": [
  {
   "cell_type": "markdown",
   "metadata": {},
   "source": [
    "# Trapezoid Method, Simpson's Rule and Romberg Integration"
   ]
  },
  {
   "cell_type": "code",
   "execution_count": 1,
   "metadata": {},
   "outputs": [],
   "source": [
    "import numpy as np\n",
    "import matplotlib.pyplot as plt"
   ]
  },
  {
   "cell_type": "markdown",
   "metadata": {},
   "source": [
    "## Define a function for taking an integral"
   ]
  },
  {
   "cell_type": "code",
   "execution_count": 2,
   "metadata": {},
   "outputs": [],
   "source": [
    "def func(x):\n",
    "    return np.exp(-2.0*x)*np.cos(10.0*x)"
   ]
  },
  {
   "cell_type": "markdown",
   "metadata": {},
   "source": [
    "## Define it's integral so we know the right answer"
   ]
  },
  {
   "cell_type": "code",
   "execution_count": 3,
   "metadata": {},
   "outputs": [],
   "source": [
    "def func_integral(x):\n",
    "    return 1/52*np.exp(-2*x)*(5*np.sin(10*x)-np.cos(10*x))"
   ]
  },
  {
   "cell_type": "markdown",
   "metadata": {},
   "source": [
    "## Define the core of the trapezoid method"
   ]
  },
  {
   "cell_type": "code",
   "execution_count": 4,
   "metadata": {},
   "outputs": [],
   "source": [
    "def trapezoid_core(f,x,h):\n",
    "    return 0.5*h*(f(x+h)+f(x))"
   ]
  },
  {
   "cell_type": "markdown",
   "metadata": {},
   "source": [
    "## Define a wrapper function for trapezoid method"
   ]
  },
  {
   "cell_type": "code",
   "execution_count": 5,
   "metadata": {},
   "outputs": [],
   "source": [
    "def trapezoid_method(f,a,b,N):\n",
    "    # f == funtion to integrate\n",
    "    # a == lower limit of integration\n",
    "    # b == upper limit of integration\n",
    "    # N == number of function evaluations to use\n",
    "    \n",
    "    #define x value to perform trapezoid rule\n",
    "    x = np.linspace(a,b,N)\n",
    "    h = x[1] - x[0]\n",
    "    \n",
    "    #define in value of the integral\n",
    "    Fint = 0.0\n",
    "    \n",
    "    #perform in integral using the trapezoid method\n",
    "    for i in range(0,len(x)-1,1):\n",
    "        Fint += trapezoid_core(f,x[i],h)\n",
    "    #return the answer\n",
    "    return Fint"
   ]
  },
  {
   "cell_type": "markdown",
   "metadata": {},
   "source": [
    "## Define the core of the Simpson's Method"
   ]
  },
  {
   "cell_type": "code",
   "execution_count": 6,
   "metadata": {},
   "outputs": [],
   "source": [
    "def simpson_core(f,x,h):\n",
    "    return h*( f(x) + 4*f(x+h) + f(x+2*h) )/3"
   ]
  },
  {
   "cell_type": "markdown",
   "metadata": {},
   "source": [
    "## Define a wrapper function to perform Simpson's Method"
   ]
  },
  {
   "cell_type": "code",
   "execution_count": 7,
   "metadata": {},
   "outputs": [],
   "source": [
    "def simpsons_method(f,a,b,N):\n",
    "      # f == funtion to integrate\n",
    "    # a == lower limit of integration\n",
    "    # b == upper limit of integration\n",
    "    # N == number of intervals\n",
    "    #note the number of chunks will be N-1\n",
    "    #so if N is odd, the we don't need to adjust the \n",
    "    #last segment\n",
    "    \n",
    "    #define x values to perform simpsons rule\n",
    "    x = np.linspace(a,b,N)\n",
    "    h = x[1]-x[0]\n",
    "    \n",
    "    #define the value of the integral\n",
    "    Fint = 0.0\n",
    "    \n",
    "    #perform the integral using simpson's method\n",
    "    for i in range(0,len(x)-2,2):\n",
    "        Fint += simpson_core(f,x[i],h)\n",
    "        \n",
    "    #apply simpson's rule over the last interval\n",
    "    #if N is even\n",
    "    if ((N%2) == 0):\n",
    "        Fint += simpson_core(f,x[-2],0.5*h)\n",
    "        \n",
    "    return Fint\n",
    "        "
   ]
  },
  {
   "cell_type": "markdown",
   "metadata": {},
   "source": [
    "## Define the Romberg Integration core"
   ]
  },
  {
   "cell_type": "code",
   "execution_count": 8,
   "metadata": {},
   "outputs": [],
   "source": [
    "def romberg_core(f,a,b,i):\n",
    "    \n",
    "    #we need the difference b-a\n",
    "    h = b - a\n",
    "    \n",
    "    #and the increment between new function evaluations\n",
    "    dh = h/2.**(i)\n",
    "    \n",
    "    #need the cofactor\n",
    "    K = h/2.**(i+1)\n",
    "    \n",
    "    #and to compute the function evaluations\n",
    "    M = 0.0\n",
    "    for j in range(2**i):\n",
    "        M += f(a + 0.5*dh + j*dh)\n",
    "        \n",
    "    #return the answer\n",
    "    return K*M"
   ]
  },
  {
   "cell_type": "markdown",
   "metadata": {},
   "source": [
    "## Define a wrapper function to perform Romberg integration"
   ]
  },
  {
   "cell_type": "code",
   "execution_count": 9,
   "metadata": {},
   "outputs": [],
   "source": [
    "def romberg_integration(f,a,b,tol):\n",
    "    \n",
    "    #define an iteration variable\n",
    "    i = 0\n",
    "    \n",
    "    #define a maximum number of iterations\n",
    "    imax = 1000\n",
    "    \n",
    "    #define an error estimate, set to a large value\n",
    "    delta = 100.0*np.fabs(tol)\n",
    "    \n",
    "    #set an array to integral answers\n",
    "    I = np.zeros(imax,dtype=float)\n",
    "    \n",
    "    #get the zeroth romberg iteration\n",
    "    I[0] = 0.5*(b-a)*(f(a) +f(b))\n",
    "    \n",
    "    #iterate by 1\n",
    "    i += 1\n",
    "    \n",
    "    while(delta>tol):\n",
    "        \n",
    "        #find this romberg iteration\n",
    "        I[i] = 0.5*I[i-1] + romberg_core(f,a,b,i)\n",
    "        \n",
    "        #compute the new fractional error estimate\n",
    "        delta = np.fabs( (I[i]-I[i-1])/I[i] )\n",
    "        \n",
    "        #print step\n",
    "        print(i,I[i],I[i-1],delta)\n",
    "        \n",
    "        if(delta>tol):\n",
    "            \n",
    "            #iterate\n",
    "            i+=1\n",
    "            \n",
    "            #if we've reached the maximum iterations\n",
    "            if(i>imax):\n",
    "                print(\"Max iterations reached.\")\n",
    "                raise StopIteration('Stopping iterations after ',i)\n",
    "                \n",
    "    #return the answer\n",
    "    return (I[i],i)"
   ]
  },
  {
   "cell_type": "markdown",
   "metadata": {},
   "source": [
    "## Check the integrals"
   ]
  },
  {
   "cell_type": "code",
   "execution_count": 10,
   "metadata": {
    "scrolled": true
   },
   "outputs": [
    {
     "name": "stdout",
     "output_type": "stream",
     "text": [
      "0.019194856870544078\n",
      "Trapezoid\n",
      "0.06006177646827916\n",
      "Simpson's Method\n",
      "-0.08051566559475892\n",
      "Romberg\n",
      "1 0.7868648494891817 1.5737296989783633 1.0\n",
      "2 0.2974797999211515 0.7868648494891817 1.6451034648327187\n",
      "3 0.1338682162766772 0.2974797999211515 1.222183937270994\n",
      "4 0.07429884868669351 0.1338682162766772 0.8017535754985691\n",
      "5 0.046311294693032426 0.07429884868669351 0.6043353825275767\n",
      "6 0.032650759062474666 0.046311294693032426 0.4183834012685401\n",
      "7 0.02589762452336669 0.032650759062474666 0.2607627017302229\n",
      "8 0.022539969341304138 0.02589762452336669 0.14896449641170112\n",
      "9 0.020865846795039833 0.022539969341304138 0.08023266741622354\n",
      "10 0.020029960350517375 0.020865846795039833 0.04173180724748\n",
      "11 0.01961231074592669 0.020029960350517375 0.021295277746780958\n",
      "12 0.019403559342457077 0.01961231074592669 0.010758407763509729\n",
      "13 0.019299201990079375 0.019403559342457077 0.005407340284398649\n",
      "14 0.019247027901207872 0.019299201990079375 0.002710760806255611\n",
      "15 0.019220942003600066 0.019247027901207872 0.0013571602059316483\n",
      "16 0.019207899341502903 0.019220942003600066 0.0006790259499632827\n",
      "17 0.019201378082131126 0.019207899341502903 0.00033962454902365327\n",
      "18 0.019198117470364325 0.019201378082131126 0.00016984018208218577\n",
      "19 0.019196487168961114 0.019198117470364325 8.492706966962434e-05\n",
      "20 0.019195672019377927 0.019196487168961114 4.246527979663633e-05\n",
      "21 0.019195264444867084 0.019195672019377927 2.1233076106515646e-05\n",
      "22 0.019195060657681284 0.019195264444867084 1.0616647138248912e-05\n",
      "23 0.019194958764104236 0.019195060657681284 5.308350921731978e-06\n",
      "24 0.019194907817322197 0.019194958764104236 2.654182167712595e-06\n",
      "25 0.01919488234392562 0.019194907817322197 1.3270931344985499e-06\n",
      "26 0.019194869607236317 0.01919488234392562 6.635465394946495e-07\n",
      "0.019194869607236317 6.635471327025206e-07 1e-06\n",
      "Romberg takes this many steps to complete:\n",
      "26\n"
     ]
    }
   ],
   "source": [
    "Answer = func_integral(np.pi)-func_integral(0)\n",
    "print(Answer)\n",
    "print(\"Trapezoid\")\n",
    "print(trapezoid_method(func,0,np.pi,10))\n",
    "print(\"Simpson's Method\")\n",
    "print(simpsons_method(func,0,np.pi,10))\n",
    "print(\"Romberg\")\n",
    "tolerance = 1.0e-6\n",
    "\n",
    "#This romberg integration takes 5 minutes to complete \n",
    "#each step taking roughly twice as long as the last\n",
    "\n",
    "#I think the issue is in this step of the romberg_core:\n",
    "    #for j in range(2**i):\n",
    "        #M += f(a + 0.5*dh + j*dh)\n",
    "        \n",
    "#for i == 26, the program needs to call the original function\n",
    "#2^26 = 67,108,864 times\n",
    "\n",
    "#in total, the program needs to call the original function about \n",
    "#2^27 ~ 130 million times \n",
    "\n",
    "RI = romberg_integration(func,0,np.pi,tolerance)\n",
    "print(RI[0], (RI[0]-Answer)/Answer, tolerance)\n",
    "print(\"Romberg takes this many steps to complete:\")\n",
    "print(RI[1])"
   ]
  },
  {
   "cell_type": "markdown",
   "metadata": {},
   "source": [
    "## Discrete bisection search"
   ]
  },
  {
   "cell_type": "code",
   "execution_count": 11,
   "metadata": {},
   "outputs": [],
   "source": [
    "def check_initial_values(f, x_min, x_max):\n",
    "    \n",
    "    #check out intital guesses\n",
    "    y_min = f(x_min)\n",
    "    y_max = f(x_max)\n",
    "    \n",
    "    #check that xim and xmax contain a zero crossing\n",
    "    if(y_min*y_max >= 0.0):\n",
    "        print(\"No zero crossing found in the range = \",x_min,x)\n",
    "        s = \"f(%f) = %f(%f) = %f\" % (x_mins,y_min,x_max,y_max)\n",
    "        print(s)\n",
    "        return 0 \n",
    "    \n",
    "    #if we reach this point, the bracket is valid\n",
    "    #and we will return 3\n",
    "    return 3"
   ]
  },
  {
   "cell_type": "code",
   "execution_count": 12,
   "metadata": {},
   "outputs": [],
   "source": [
    "def bisection_root_finding(f, x_min_start, x_max_start):\n",
    "\n",
    "    #this function uses bisection to find a root\n",
    "\n",
    "    x_min = x_min_start  #minimum x in bracket\n",
    "    x_max = x_max_start  #maximum x in bracket\n",
    "    x_mid = 0.0          #mid point\n",
    "    \n",
    "    y_min = f(x_min)    #function value at x_min\n",
    "    y_max = f(x_max)     #function value at x_max\n",
    "    y_mid = 0.0          #function value at mid point\n",
    "\n",
    "    imax = 10000    #set a max number of iterations\n",
    "    i = 0           #iteration counter\n",
    "\n",
    "    #check the initial values\n",
    "    flag = check_initial_values(f, x_min, x_max)\n",
    "\n",
    "    if(flag == 0):\n",
    "        print(\"Error in bisection_root_finging().\")\n",
    "        raise ValueError('Inital vlues invalid',x_min,x_max)\n",
    "\n",
    "    #if we reach here, then we need to conduct the search\n",
    "\n",
    "    #set a new flag\n",
    "    flag = 1\n",
    "\n",
    "    #enter a while loop\n",
    "    while(flag):\n",
    "        x_mid = (x_min+x_max)//2   #floored mid point\n",
    "        y_mid = f(x_mid)           #value of y at x_mid\n",
    "    \n",
    "        #check if the search has converged on a single value\n",
    "        if(np.fabs(x_min-x_max)<=1):\n",
    "            flag = 0 #we are done!\n",
    "        \n",
    "        else: \n",
    "            #x_mid is not a root\n",
    "            \n",
    "            #if the product of the function at the midpoint \n",
    "            #and at one of the endpoints is greater than\n",
    "            #zero, replace this end point\n",
    "            if(f(x_min)*f(x_mid)>0):\n",
    "                #replace x_max with x_mid\n",
    "                x_min = x_mid\n",
    "            else:\n",
    "                #replace x_max with x_mid\n",
    "                x_max = x_mid\n",
    "        \n",
    "        #print out the iteration\n",
    "        print(x_min,f(x_min),x_max,f(x_max))\n",
    "        \n",
    "        #count the iteration\n",
    "        i += 1 \n",
    "        \n",
    "        #if we have exceeded the number of iterations\n",
    "        #then exit\n",
    "        if(i>=imax):\n",
    "            print(\"Exceeded max number of iterations = \",i)\n",
    "            s = \"Min bracket f(%f) = %f\" %(x_min,f(x_min))\n",
    "            print(s)\n",
    "            s = \"Max bracket f(%f) = %f\" %(x_max,f(x_max))\n",
    "            print(s)\n",
    "            s = \"Mid bracket f(%f) = %f\" %(x_mid,f(x_mid))\n",
    "            print(s)\n",
    "            raise StopIteration('Stopping iterations after ',i)\n",
    "            \n",
    "    #we are done\n",
    "    return x_max\n"
   ]
  },
  {
   "cell_type": "markdown",
   "metadata": {},
   "source": [
    "## Function For Zeros"
   ]
  },
  {
   "cell_type": "code",
   "execution_count": 13,
   "metadata": {},
   "outputs": [],
   "source": [
    "#define a function that crosses x axis \n",
    "#when the integration approx method \n",
    "#reaches the specified tolerance\n",
    "\n",
    "def func_delta(f,a,b,N,value,tol):\n",
    "    p = f(func,a,b,N)\n",
    "    return np.fabs((p-value)/value)-tol"
   ]
  },
  {
   "cell_type": "markdown",
   "metadata": {},
   "source": [
    "## Check Trapezoid method to Tolerance"
   ]
  },
  {
   "cell_type": "code",
   "execution_count": 14,
   "metadata": {},
   "outputs": [
    {
     "name": "stdout",
     "output_type": "stream",
     "text": [
      "5001 2.4214695134903265e-06 10000 -1.4446277263194662e-07\n",
      "7500 5.210570527922412e-07 10000 -1.4446277263194662e-07\n",
      "8750 1.1746849009197209e-07 10000 -1.4446277263194662e-07\n",
      "8750 1.1746849009197209e-07 9375 -2.657570090592655e-08\n",
      "9062 4.183713988272004e-08 9375 -2.657570090592655e-08\n",
      "9218 6.868864828810744e-09 9375 -2.657570090592655e-08\n",
      "9218 6.868864828810744e-09 9296 -9.958738635256862e-09\n",
      "9218 6.868864828810744e-09 9257 -1.598109850298402e-09\n",
      "9237 2.7305110847427076e-09 9257 -1.598109850298402e-09\n",
      "9247 5.62704393580491e-10 9257 -1.598109850298402e-09\n",
      "9247 5.62704393580491e-10 9252 -5.185830652895136e-10\n",
      "9249 1.2998747749602484e-10 9252 -5.185830652895136e-10\n",
      "9249 1.2998747749602484e-10 9250 -8.628042540768792e-11\n",
      "9249 1.2998747749602484e-10 9250 -8.628042540768792e-11\n",
      "The trapezoid method needs this many intervals to reach the specified tolerance:\n",
      "9250\n",
      "The value of the trapezoid method using that many intervals is:\n",
      "0.019194876063744808\n",
      "The true answer is:\n",
      "0.019194856870544078\n",
      "The fractional error is:\n",
      "9.999137195745923e-07\n",
      "The fractional error using one less interval is:\n",
      "1.000129987477496e-06\n"
     ]
    }
   ],
   "source": [
    "tolerance = 1.0e-6\n",
    "Answer = func_integral(np.pi)-func_integral(0)\n",
    "\n",
    "\n",
    "#define a function of 1 variable that crosses x axis \n",
    "#when the trapezoid method reaches the specified tolerance\n",
    "def trapezoid_delta(x):\n",
    "    return func_delta(trapezoid_method,0,np.pi,x,Answer,tolerance)\n",
    "\n",
    "TI=bisection_root_finding(trapezoid_delta, 2, 10000)\n",
    "print(\"The trapezoid method needs this many intervals to reach the specified tolerance:\")\n",
    "print(TI)\n",
    "print(\"The value of the trapezoid method using that many intervals is:\")\n",
    "print(trapezoid_method(func,0,np.pi,TI))\n",
    "print(\"The true answer is:\")\n",
    "print(Answer)\n",
    "print(\"The fractional error is:\")\n",
    "print(trapezoid_delta(TI)+tolerance)\n",
    "print(\"The fractional error using one less interval is:\")\n",
    "print(trapezoid_delta(TI-1)+tolerance)\n"
   ]
  },
  {
   "cell_type": "markdown",
   "metadata": {},
   "source": [
    "## Check Simpson's Method to tolerance"
   ]
  },
  {
   "cell_type": "code",
   "execution_count": 15,
   "metadata": {},
   "outputs": [
    {
     "name": "stdout",
     "output_type": "stream",
     "text": [
      "2 21.613845536431764 5001 -9.999733453389853e-07\n",
      "2 21.613845536431764 2501 -9.9957351566333e-07\n",
      "2 21.613845536431764 1251 -9.931756282952348e-07\n",
      "2 21.613845536431764 626 -8.907589696844433e-07\n",
      "314 7.393572682217618e-07 626 -8.907589696844433e-07\n",
      "314 7.393572682217618e-07 470 -6.553410211644516e-07\n",
      "314 7.393572682217618e-07 392 -2.862494547536457e-07\n",
      "353 8.673035301235889e-08 392 -2.862494547536457e-07\n",
      "353 8.673035301235889e-08 372 -1.1931627021514024e-07\n",
      "353 8.673035301235889e-08 362 -1.752452412013475e-08\n",
      "357 3.8671330070811235e-08 362 -1.752452412013475e-08\n",
      "359 1.5638257340097364e-08 362 -1.752452412013475e-08\n",
      "360 4.569665885123062e-09 362 -1.752452412013475e-08\n",
      "360 4.569665885123062e-09 361 -6.759789619120116e-09\n",
      "360 4.569665885123062e-09 361 -6.759789619120116e-09\n",
      "Simpson's method needs this many intervals to reach the specified tolerance:\n",
      "361\n",
      "The value of Simpson's method using that many intervals is:\n",
      "0.0191948378054404\n",
      "The true answer is:\n",
      "0.019194856870544078\n",
      "The fractional error is:\n",
      "9.932402103808798e-07\n",
      "The fractional error using one less interval is:\n",
      "1.004569665885123e-06\n"
     ]
    }
   ],
   "source": [
    "tolerance = 1.0e-6\n",
    "Answer = func_integral(np.pi)-func_integral(0)\n",
    "\n",
    "\n",
    "#define a function of 1 variable that crosses x axis \n",
    "#when Simpson's method reaches the specified tolerance\n",
    "def simpsons_delta(x):\n",
    "    return func_delta(simpsons_method,0,np.pi,x,Answer,tolerance)\n",
    "\n",
    "SI=bisection_root_finding(simpsons_delta, 2, 10000)\n",
    "print(\"Simpson's method needs this many intervals to reach the specified tolerance:\")\n",
    "print(SI)\n",
    "print(\"The value of Simpson's method using that many intervals is:\")\n",
    "print(simpsons_method(func,0,np.pi,SI))\n",
    "print(\"The true answer is:\")\n",
    "print(Answer)\n",
    "print(\"The fractional error is:\")\n",
    "print(simpsons_delta(SI)+tolerance)\n",
    "print(\"The fractional error using one less interval is:\")\n",
    "print(simpsons_delta(SI-1)+tolerance)"
   ]
  }
 ],
 "metadata": {
  "kernelspec": {
   "display_name": "Python 3",
   "language": "python",
   "name": "python3"
  },
  "language_info": {
   "codemirror_mode": {
    "name": "ipython",
    "version": 3
   },
   "file_extension": ".py",
   "mimetype": "text/x-python",
   "name": "python",
   "nbconvert_exporter": "python",
   "pygments_lexer": "ipython3",
   "version": "3.8.5"
  }
 },
 "nbformat": 4,
 "nbformat_minor": 4
}
